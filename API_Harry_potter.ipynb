{
  "nbformat": 4,
  "nbformat_minor": 0,
  "metadata": {
    "colab": {
      "name": "API: Harry potter.ipynb",
      "provenance": [],
      "collapsed_sections": [],
      "authorship_tag": "ABX9TyMP14V34DM6fjWIpxe0Gvdk",
      "include_colab_link": true
    },
    "kernelspec": {
      "name": "python3",
      "display_name": "Python 3"
    },
    "language_info": {
      "name": "python"
    }
  },
  "cells": [
    {
      "cell_type": "markdown",
      "metadata": {
        "id": "view-in-github",
        "colab_type": "text"
      },
      "source": [
        "<a href=\"https://colab.research.google.com/github/Orakod/Orakod/blob/main/API_Harry_potter.ipynb\" target=\"_parent\"><img src=\"https://colab.research.google.com/assets/colab-badge.svg\" alt=\"Open In Colab\"/></a>"
      ]
    },
    {
      "cell_type": "markdown",
      "source": [
        "## Harry Potter Characters"
      ],
      "metadata": {
        "id": "demCYW9ZgaPS"
      }
    },
    {
      "cell_type": "code",
      "source": [
        "# Import package\n",
        "import pandas as pd\n",
        "import requests\n",
        "import time"
      ],
      "metadata": {
        "id": "wwvhO6jcgnL4"
      },
      "execution_count": 40,
      "outputs": []
    },
    {
      "cell_type": "code",
      "source": [
        "# API endpoint\n",
        "url = \"http://hp-api.herokuapp.com/api/characters\""
      ],
      "metadata": {
        "id": "zhfnbjOWgyR_"
      },
      "execution_count": 41,
      "outputs": []
    },
    {
      "cell_type": "code",
      "source": [
        "# Check status \n",
        "response = requests.get(url)\n",
        "response.status_code"
      ],
      "metadata": {
        "colab": {
          "base_uri": "https://localhost:8080/"
        },
        "id": "ZDgFoeqqhDrn",
        "outputId": "e27c7b64-a700-4410-fd92-da3bbc6be958"
      },
      "execution_count": 42,
      "outputs": [
        {
          "output_type": "execute_result",
          "data": {
            "text/plain": [
              "200"
            ]
          },
          "metadata": {},
          "execution_count": 42
        }
      ]
    },
    {
      "cell_type": "code",
      "source": [
        "# Check data\n",
        "char = response.json()\n",
        "char[0]"
      ],
      "metadata": {
        "colab": {
          "base_uri": "https://localhost:8080/"
        },
        "id": "oQRIByBNhuyA",
        "outputId": "fda28f30-31cd-4428-a9b5-747a80d5dc39"
      },
      "execution_count": 43,
      "outputs": [
        {
          "output_type": "execute_result",
          "data": {
            "text/plain": [
              "{'actor': 'Daniel Radcliffe',\n",
              " 'alive': True,\n",
              " 'alternate_actors': [],\n",
              " 'alternate_names': [],\n",
              " 'ancestry': 'half-blood',\n",
              " 'dateOfBirth': '31-07-1980',\n",
              " 'eyeColour': 'green',\n",
              " 'gender': 'male',\n",
              " 'hairColour': 'black',\n",
              " 'hogwartsStaff': False,\n",
              " 'hogwartsStudent': True,\n",
              " 'house': 'Gryffindor',\n",
              " 'image': 'http://hp-api.herokuapp.com/images/harry.jpg',\n",
              " 'name': 'Harry Potter',\n",
              " 'patronus': 'stag',\n",
              " 'species': 'human',\n",
              " 'wand': {'core': 'phoenix feather', 'length': 11, 'wood': 'holly'},\n",
              " 'wizard': True,\n",
              " 'yearOfBirth': 1980}"
            ]
          },
          "metadata": {},
          "execution_count": 43
        }
      ]
    },
    {
      "cell_type": "code",
      "source": [
        "# for loop\n",
        "result = []\n",
        "for i in range (15):\n",
        "    data = [\n",
        "          char[i]['name'],\n",
        "          char[i]['house'],\n",
        "          char[i]['ancestry'],\n",
        "          char[i]['yearOfBirth'],\n",
        "          char[i]['image']       \n",
        "    ]\n",
        "    result.append(data)\n",
        "    time.sleep(1)\n",
        "print(result)"
      ],
      "metadata": {
        "colab": {
          "base_uri": "https://localhost:8080/"
        },
        "id": "0eb8yAa6iSh4",
        "outputId": "a889b736-5647-456f-dbf6-c989de367de5"
      },
      "execution_count": 44,
      "outputs": [
        {
          "output_type": "stream",
          "name": "stdout",
          "text": [
            "[['Harry Potter', 'Gryffindor', 'half-blood', 1980, 'http://hp-api.herokuapp.com/images/harry.jpg'], ['Hermione Granger', 'Gryffindor', 'muggleborn', 1979, 'http://hp-api.herokuapp.com/images/hermione.jpeg'], ['Ron Weasley', 'Gryffindor', 'pure-blood', 1980, 'http://hp-api.herokuapp.com/images/ron.jpg'], ['Draco Malfoy', 'Slytherin', 'pure-blood', 1980, 'http://hp-api.herokuapp.com/images/draco.jpg'], ['Minerva McGonagall', 'Gryffindor', '', 1925, 'http://hp-api.herokuapp.com/images/mcgonagall.jpg'], ['Cedric Diggory', 'Hufflepuff', '', 1977, 'http://hp-api.herokuapp.com/images/cedric.png'], ['Cho Chang', 'Ravenclaw', '', '', 'http://hp-api.herokuapp.com/images/cho.jpg'], ['Severus Snape', 'Slytherin', 'half-blood', 1960, 'http://hp-api.herokuapp.com/images/snape.jpg'], ['Rubeus Hagrid', 'Gryffindor', 'half-blood', 1928, 'http://hp-api.herokuapp.com/images/hagrid.png'], ['Neville Longbottom', 'Gryffindor', 'pure-blood', 1980, 'http://hp-api.herokuapp.com/images/neville.jpg'], ['Luna Lovegood', 'Ravenclaw', '', 1981, 'http://hp-api.herokuapp.com/images/luna.jpg'], ['Ginny Weasley', 'Gryffindor', 'pure-blood', 1981, 'http://hp-api.herokuapp.com/images/ginny.jpg'], ['Sirius Black', 'Gryffindor', 'pure-blood', 1959, 'http://hp-api.herokuapp.com/images/sirius.JPG'], ['Remus Lupin', 'Gryffindor', 'half-blood', 1960, 'http://hp-api.herokuapp.com/images/lupin.jpg'], ['Arthur Weasley', 'Gryffindor', 'pure-blood', 1950, 'http://hp-api.herokuapp.com/images/arthur.jpg']]\n"
          ]
        }
      ]
    },
    {
      "cell_type": "code",
      "source": [
        "# Create dataframe\n",
        "headers = ['Name','House','Ancestry','Year_Of_Birth','Image']\n",
        "HP = pd.DataFrame(result , columns = headers )\n",
        "print(HP)\n",
        "# Create CSV file\n",
        "HP.to_csv(\"Harry_potter.csv\",index = False)"
      ],
      "metadata": {
        "colab": {
          "base_uri": "https://localhost:8080/"
        },
        "id": "PYwMYCXFkMJ-",
        "outputId": "240f3a0c-5bea-42e8-f173-9b7ba04567b7"
      },
      "execution_count": 52,
      "outputs": [
        {
          "output_type": "stream",
          "name": "stdout",
          "text": [
            "                  Name       House    Ancestry Year_Of_Birth  \\\n",
            "0         Harry Potter  Gryffindor  half-blood          1980   \n",
            "1     Hermione Granger  Gryffindor  muggleborn          1979   \n",
            "2          Ron Weasley  Gryffindor  pure-blood          1980   \n",
            "3         Draco Malfoy   Slytherin  pure-blood          1980   \n",
            "4   Minerva McGonagall  Gryffindor                      1925   \n",
            "5       Cedric Diggory  Hufflepuff                      1977   \n",
            "6            Cho Chang   Ravenclaw                             \n",
            "7        Severus Snape   Slytherin  half-blood          1960   \n",
            "8        Rubeus Hagrid  Gryffindor  half-blood          1928   \n",
            "9   Neville Longbottom  Gryffindor  pure-blood          1980   \n",
            "10       Luna Lovegood   Ravenclaw                      1981   \n",
            "11       Ginny Weasley  Gryffindor  pure-blood          1981   \n",
            "12        Sirius Black  Gryffindor  pure-blood          1959   \n",
            "13         Remus Lupin  Gryffindor  half-blood          1960   \n",
            "14      Arthur Weasley  Gryffindor  pure-blood          1950   \n",
            "\n",
            "                                                Image  \n",
            "0        http://hp-api.herokuapp.com/images/harry.jpg  \n",
            "1    http://hp-api.herokuapp.com/images/hermione.jpeg  \n",
            "2          http://hp-api.herokuapp.com/images/ron.jpg  \n",
            "3        http://hp-api.herokuapp.com/images/draco.jpg  \n",
            "4   http://hp-api.herokuapp.com/images/mcgonagall.jpg  \n",
            "5       http://hp-api.herokuapp.com/images/cedric.png  \n",
            "6          http://hp-api.herokuapp.com/images/cho.jpg  \n",
            "7        http://hp-api.herokuapp.com/images/snape.jpg  \n",
            "8       http://hp-api.herokuapp.com/images/hagrid.png  \n",
            "9      http://hp-api.herokuapp.com/images/neville.jpg  \n",
            "10        http://hp-api.herokuapp.com/images/luna.jpg  \n",
            "11       http://hp-api.herokuapp.com/images/ginny.jpg  \n",
            "12      http://hp-api.herokuapp.com/images/sirius.JPG  \n",
            "13       http://hp-api.herokuapp.com/images/lupin.jpg  \n",
            "14      http://hp-api.herokuapp.com/images/arthur.jpg  \n"
          ]
        }
      ]
    },
    {
      "cell_type": "code",
      "source": [
        "# Insert Image \n",
        "from IPython.display import HTML\n",
        "def to_img(url, alt=None, width=100):\n",
        "  if alt == None:\n",
        "    alt=' '\n",
        "    return f'<img alt=\"{alt}\" src=\"{url}\" width=\"{width}\"/>'\n",
        "\n",
        "\n",
        "HP['Image']= HP.apply(lambda r:to_img(r['Image']),axis=1)\n",
        "HP.head(3)"
      ],
      "metadata": {
        "colab": {
          "base_uri": "https://localhost:8080/",
          "height": 143
        },
        "id": "MOxgC4Pok9L0",
        "outputId": "6e8b83c1-fdc3-4b8f-9c4c-25c048883fad"
      },
      "execution_count": 46,
      "outputs": [
        {
          "output_type": "execute_result",
          "data": {
            "text/plain": [
              "               Name       House    Ancestry Year_Of_Birth  \\\n",
              "0      Harry Potter  Gryffindor  half-blood          1980   \n",
              "1  Hermione Granger  Gryffindor  muggleborn          1979   \n",
              "2       Ron Weasley  Gryffindor  pure-blood          1980   \n",
              "\n",
              "                                               Image  \n",
              "0  <img alt=\" \" src=\"http://hp-api.herokuapp.com/...  \n",
              "1  <img alt=\" \" src=\"http://hp-api.herokuapp.com/...  \n",
              "2  <img alt=\" \" src=\"http://hp-api.herokuapp.com/...  "
            ],
            "text/html": [
              "\n",
              "  <div id=\"df-38ffae72-5097-49cc-ab53-141ea9abda95\">\n",
              "    <div class=\"colab-df-container\">\n",
              "      <div>\n",
              "<style scoped>\n",
              "    .dataframe tbody tr th:only-of-type {\n",
              "        vertical-align: middle;\n",
              "    }\n",
              "\n",
              "    .dataframe tbody tr th {\n",
              "        vertical-align: top;\n",
              "    }\n",
              "\n",
              "    .dataframe thead th {\n",
              "        text-align: right;\n",
              "    }\n",
              "</style>\n",
              "<table border=\"1\" class=\"dataframe\">\n",
              "  <thead>\n",
              "    <tr style=\"text-align: right;\">\n",
              "      <th></th>\n",
              "      <th>Name</th>\n",
              "      <th>House</th>\n",
              "      <th>Ancestry</th>\n",
              "      <th>Year_Of_Birth</th>\n",
              "      <th>Image</th>\n",
              "    </tr>\n",
              "  </thead>\n",
              "  <tbody>\n",
              "    <tr>\n",
              "      <th>0</th>\n",
              "      <td>Harry Potter</td>\n",
              "      <td>Gryffindor</td>\n",
              "      <td>half-blood</td>\n",
              "      <td>1980</td>\n",
              "      <td>&lt;img alt=\" \" src=\"http://hp-api.herokuapp.com/...</td>\n",
              "    </tr>\n",
              "    <tr>\n",
              "      <th>1</th>\n",
              "      <td>Hermione Granger</td>\n",
              "      <td>Gryffindor</td>\n",
              "      <td>muggleborn</td>\n",
              "      <td>1979</td>\n",
              "      <td>&lt;img alt=\" \" src=\"http://hp-api.herokuapp.com/...</td>\n",
              "    </tr>\n",
              "    <tr>\n",
              "      <th>2</th>\n",
              "      <td>Ron Weasley</td>\n",
              "      <td>Gryffindor</td>\n",
              "      <td>pure-blood</td>\n",
              "      <td>1980</td>\n",
              "      <td>&lt;img alt=\" \" src=\"http://hp-api.herokuapp.com/...</td>\n",
              "    </tr>\n",
              "  </tbody>\n",
              "</table>\n",
              "</div>\n",
              "      <button class=\"colab-df-convert\" onclick=\"convertToInteractive('df-38ffae72-5097-49cc-ab53-141ea9abda95')\"\n",
              "              title=\"Convert this dataframe to an interactive table.\"\n",
              "              style=\"display:none;\">\n",
              "        \n",
              "  <svg xmlns=\"http://www.w3.org/2000/svg\" height=\"24px\"viewBox=\"0 0 24 24\"\n",
              "       width=\"24px\">\n",
              "    <path d=\"M0 0h24v24H0V0z\" fill=\"none\"/>\n",
              "    <path d=\"M18.56 5.44l.94 2.06.94-2.06 2.06-.94-2.06-.94-.94-2.06-.94 2.06-2.06.94zm-11 1L8.5 8.5l.94-2.06 2.06-.94-2.06-.94L8.5 2.5l-.94 2.06-2.06.94zm10 10l.94 2.06.94-2.06 2.06-.94-2.06-.94-.94-2.06-.94 2.06-2.06.94z\"/><path d=\"M17.41 7.96l-1.37-1.37c-.4-.4-.92-.59-1.43-.59-.52 0-1.04.2-1.43.59L10.3 9.45l-7.72 7.72c-.78.78-.78 2.05 0 2.83L4 21.41c.39.39.9.59 1.41.59.51 0 1.02-.2 1.41-.59l7.78-7.78 2.81-2.81c.8-.78.8-2.07 0-2.86zM5.41 20L4 18.59l7.72-7.72 1.47 1.35L5.41 20z\"/>\n",
              "  </svg>\n",
              "      </button>\n",
              "      \n",
              "  <style>\n",
              "    .colab-df-container {\n",
              "      display:flex;\n",
              "      flex-wrap:wrap;\n",
              "      gap: 12px;\n",
              "    }\n",
              "\n",
              "    .colab-df-convert {\n",
              "      background-color: #E8F0FE;\n",
              "      border: none;\n",
              "      border-radius: 50%;\n",
              "      cursor: pointer;\n",
              "      display: none;\n",
              "      fill: #1967D2;\n",
              "      height: 32px;\n",
              "      padding: 0 0 0 0;\n",
              "      width: 32px;\n",
              "    }\n",
              "\n",
              "    .colab-df-convert:hover {\n",
              "      background-color: #E2EBFA;\n",
              "      box-shadow: 0px 1px 2px rgba(60, 64, 67, 0.3), 0px 1px 3px 1px rgba(60, 64, 67, 0.15);\n",
              "      fill: #174EA6;\n",
              "    }\n",
              "\n",
              "    [theme=dark] .colab-df-convert {\n",
              "      background-color: #3B4455;\n",
              "      fill: #D2E3FC;\n",
              "    }\n",
              "\n",
              "    [theme=dark] .colab-df-convert:hover {\n",
              "      background-color: #434B5C;\n",
              "      box-shadow: 0px 1px 3px 1px rgba(0, 0, 0, 0.15);\n",
              "      filter: drop-shadow(0px 1px 2px rgba(0, 0, 0, 0.3));\n",
              "      fill: #FFFFFF;\n",
              "    }\n",
              "  </style>\n",
              "\n",
              "      <script>\n",
              "        const buttonEl =\n",
              "          document.querySelector('#df-38ffae72-5097-49cc-ab53-141ea9abda95 button.colab-df-convert');\n",
              "        buttonEl.style.display =\n",
              "          google.colab.kernel.accessAllowed ? 'block' : 'none';\n",
              "\n",
              "        async function convertToInteractive(key) {\n",
              "          const element = document.querySelector('#df-38ffae72-5097-49cc-ab53-141ea9abda95');\n",
              "          const dataTable =\n",
              "            await google.colab.kernel.invokeFunction('convertToInteractive',\n",
              "                                                     [key], {});\n",
              "          if (!dataTable) return;\n",
              "\n",
              "          const docLinkHtml = 'Like what you see? Visit the ' +\n",
              "            '<a target=\"_blank\" href=https://colab.research.google.com/notebooks/data_table.ipynb>data table notebook</a>'\n",
              "            + ' to learn more about interactive tables.';\n",
              "          element.innerHTML = '';\n",
              "          dataTable['output_type'] = 'display_data';\n",
              "          await google.colab.output.renderOutput(dataTable, element);\n",
              "          const docLink = document.createElement('div');\n",
              "          docLink.innerHTML = docLinkHtml;\n",
              "          element.appendChild(docLink);\n",
              "        }\n",
              "      </script>\n",
              "    </div>\n",
              "  </div>\n",
              "  "
            ]
          },
          "metadata": {},
          "execution_count": 46
        }
      ]
    },
    {
      "cell_type": "code",
      "source": [
        "#Display\n",
        "HP_html = HTML(HP[['Name','House', 'Ancestry', 'Year_Of_Birth','Image']].to_html(escape=False))\n",
        "HP_html"
      ],
      "metadata": {
        "colab": {
          "base_uri": "https://localhost:8080/",
          "height": 1000
        },
        "id": "Pdod-3VQlmXL",
        "outputId": "a6bd4dcf-a36d-4277-b6a1-2fcc8a4ebc35"
      },
      "execution_count": 47,
      "outputs": [
        {
          "output_type": "execute_result",
          "data": {
            "text/plain": [
              "<IPython.core.display.HTML object>"
            ],
            "text/html": [
              "<table border=\"1\" class=\"dataframe\">\n",
              "  <thead>\n",
              "    <tr style=\"text-align: right;\">\n",
              "      <th></th>\n",
              "      <th>Name</th>\n",
              "      <th>House</th>\n",
              "      <th>Ancestry</th>\n",
              "      <th>Year_Of_Birth</th>\n",
              "      <th>Image</th>\n",
              "    </tr>\n",
              "  </thead>\n",
              "  <tbody>\n",
              "    <tr>\n",
              "      <th>0</th>\n",
              "      <td>Harry Potter</td>\n",
              "      <td>Gryffindor</td>\n",
              "      <td>half-blood</td>\n",
              "      <td>1980</td>\n",
              "      <td><img alt=\" \" src=\"http://hp-api.herokuapp.com/images/harry.jpg\" width=\"100\"/></td>\n",
              "    </tr>\n",
              "    <tr>\n",
              "      <th>1</th>\n",
              "      <td>Hermione Granger</td>\n",
              "      <td>Gryffindor</td>\n",
              "      <td>muggleborn</td>\n",
              "      <td>1979</td>\n",
              "      <td><img alt=\" \" src=\"http://hp-api.herokuapp.com/images/hermione.jpeg\" width=\"100\"/></td>\n",
              "    </tr>\n",
              "    <tr>\n",
              "      <th>2</th>\n",
              "      <td>Ron Weasley</td>\n",
              "      <td>Gryffindor</td>\n",
              "      <td>pure-blood</td>\n",
              "      <td>1980</td>\n",
              "      <td><img alt=\" \" src=\"http://hp-api.herokuapp.com/images/ron.jpg\" width=\"100\"/></td>\n",
              "    </tr>\n",
              "    <tr>\n",
              "      <th>3</th>\n",
              "      <td>Draco Malfoy</td>\n",
              "      <td>Slytherin</td>\n",
              "      <td>pure-blood</td>\n",
              "      <td>1980</td>\n",
              "      <td><img alt=\" \" src=\"http://hp-api.herokuapp.com/images/draco.jpg\" width=\"100\"/></td>\n",
              "    </tr>\n",
              "    <tr>\n",
              "      <th>4</th>\n",
              "      <td>Minerva McGonagall</td>\n",
              "      <td>Gryffindor</td>\n",
              "      <td></td>\n",
              "      <td>1925</td>\n",
              "      <td><img alt=\" \" src=\"http://hp-api.herokuapp.com/images/mcgonagall.jpg\" width=\"100\"/></td>\n",
              "    </tr>\n",
              "    <tr>\n",
              "      <th>5</th>\n",
              "      <td>Cedric Diggory</td>\n",
              "      <td>Hufflepuff</td>\n",
              "      <td></td>\n",
              "      <td>1977</td>\n",
              "      <td><img alt=\" \" src=\"http://hp-api.herokuapp.com/images/cedric.png\" width=\"100\"/></td>\n",
              "    </tr>\n",
              "    <tr>\n",
              "      <th>6</th>\n",
              "      <td>Cho Chang</td>\n",
              "      <td>Ravenclaw</td>\n",
              "      <td></td>\n",
              "      <td></td>\n",
              "      <td><img alt=\" \" src=\"http://hp-api.herokuapp.com/images/cho.jpg\" width=\"100\"/></td>\n",
              "    </tr>\n",
              "    <tr>\n",
              "      <th>7</th>\n",
              "      <td>Severus Snape</td>\n",
              "      <td>Slytherin</td>\n",
              "      <td>half-blood</td>\n",
              "      <td>1960</td>\n",
              "      <td><img alt=\" \" src=\"http://hp-api.herokuapp.com/images/snape.jpg\" width=\"100\"/></td>\n",
              "    </tr>\n",
              "    <tr>\n",
              "      <th>8</th>\n",
              "      <td>Rubeus Hagrid</td>\n",
              "      <td>Gryffindor</td>\n",
              "      <td>half-blood</td>\n",
              "      <td>1928</td>\n",
              "      <td><img alt=\" \" src=\"http://hp-api.herokuapp.com/images/hagrid.png\" width=\"100\"/></td>\n",
              "    </tr>\n",
              "    <tr>\n",
              "      <th>9</th>\n",
              "      <td>Neville Longbottom</td>\n",
              "      <td>Gryffindor</td>\n",
              "      <td>pure-blood</td>\n",
              "      <td>1980</td>\n",
              "      <td><img alt=\" \" src=\"http://hp-api.herokuapp.com/images/neville.jpg\" width=\"100\"/></td>\n",
              "    </tr>\n",
              "    <tr>\n",
              "      <th>10</th>\n",
              "      <td>Luna Lovegood</td>\n",
              "      <td>Ravenclaw</td>\n",
              "      <td></td>\n",
              "      <td>1981</td>\n",
              "      <td><img alt=\" \" src=\"http://hp-api.herokuapp.com/images/luna.jpg\" width=\"100\"/></td>\n",
              "    </tr>\n",
              "    <tr>\n",
              "      <th>11</th>\n",
              "      <td>Ginny Weasley</td>\n",
              "      <td>Gryffindor</td>\n",
              "      <td>pure-blood</td>\n",
              "      <td>1981</td>\n",
              "      <td><img alt=\" \" src=\"http://hp-api.herokuapp.com/images/ginny.jpg\" width=\"100\"/></td>\n",
              "    </tr>\n",
              "    <tr>\n",
              "      <th>12</th>\n",
              "      <td>Sirius Black</td>\n",
              "      <td>Gryffindor</td>\n",
              "      <td>pure-blood</td>\n",
              "      <td>1959</td>\n",
              "      <td><img alt=\" \" src=\"http://hp-api.herokuapp.com/images/sirius.JPG\" width=\"100\"/></td>\n",
              "    </tr>\n",
              "    <tr>\n",
              "      <th>13</th>\n",
              "      <td>Remus Lupin</td>\n",
              "      <td>Gryffindor</td>\n",
              "      <td>half-blood</td>\n",
              "      <td>1960</td>\n",
              "      <td><img alt=\" \" src=\"http://hp-api.herokuapp.com/images/lupin.jpg\" width=\"100\"/></td>\n",
              "    </tr>\n",
              "    <tr>\n",
              "      <th>14</th>\n",
              "      <td>Arthur Weasley</td>\n",
              "      <td>Gryffindor</td>\n",
              "      <td>pure-blood</td>\n",
              "      <td>1950</td>\n",
              "      <td><img alt=\" \" src=\"http://hp-api.herokuapp.com/images/arthur.jpg\" width=\"100\"/></td>\n",
              "    </tr>\n",
              "  </tbody>\n",
              "</table>"
            ]
          },
          "metadata": {},
          "execution_count": 47
        }
      ]
    }
  ]
}