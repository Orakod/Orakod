{
  "nbformat": 4,
  "nbformat_minor": 0,
  "metadata": {
    "colab": {
      "name": "KxC_restaurant.ipynb",
      "provenance": [],
      "collapsed_sections": [],
      "authorship_tag": "ABX9TyPEaHxewq1CSeF5+Nx+Y7La",
      "include_colab_link": true
    },
    "kernelspec": {
      "name": "python3",
      "display_name": "Python 3"
    },
    "language_info": {
      "name": "python"
    }
  },
  "cells": [
    {
      "cell_type": "markdown",
      "metadata": {
        "id": "view-in-github",
        "colab_type": "text"
      },
      "source": [
        "<a href=\"https://colab.research.google.com/github/Orakod/Orakod/blob/main/KxC_restaurant.ipynb\" target=\"_parent\"><img src=\"https://colab.research.google.com/assets/colab-badge.svg\" alt=\"Open In Colab\"/></a>"
      ]
    },
    {
      "cell_type": "markdown",
      "source": [
        "# **KxC restaurant** ✨"
      ],
      "metadata": {
        "id": "qcd7JIf1mK7f"
      }
    },
    {
      "cell_type": "code",
      "source": [
        "#manu \n",
        "#food\n",
        "food_01 = {\n",
        "    'menu' : 'Salmon Salad',\n",
        "    'price' : '250',\n",
        "    'point' : '5'\n",
        "}\n",
        "\n",
        "food_02 = {\n",
        "    'menu' : 'Wagyu steak',\n",
        "    'price' : '350',\n",
        "    'point' : '7'\n",
        "}\n",
        "food_03 ={\n",
        "    'menu' : 'Katsu don',\n",
        "    'price' : '150',\n",
        "    'point' : '3'\n",
        "}\n",
        "#drink\n",
        "drink_01 = {\n",
        "    'menu' : 'Yuzu Lemon soda',\n",
        "    'price': '60',\n",
        "    'point' : '1'\n",
        "}\n",
        "\n",
        "drink_02 = {\n",
        "    'menu' : 'Green tea',\n",
        "    'price' : '50',\n",
        "    'point' : '1'\n",
        "}\n",
        "\n",
        "drink_03 = {\n",
        "    'menu' : 'Kamikaze',\n",
        "    'price' : '200',\n",
        "    'point' : '4'\n",
        "}"
      ],
      "metadata": {
        "id": "IFfC8kQ1E0Lt"
      },
      "execution_count": null,
      "outputs": []
    },
    {
      "cell_type": "code",
      "execution_count": null,
      "metadata": {
        "id": "fisXJyWUqfCU"
      },
      "outputs": [],
      "source": [
        "import random\n",
        "class restaurant:\n",
        "    def __init__(self,customer_name):\n",
        "        self.customer_name = customer_name\n",
        "        self.order = 0\n",
        "        self.table = 0\n",
        "        self.prices = 0\n",
        "        self.point = 0\n",
        "    #1. Reservation\n",
        "    def reservation (self,table):\n",
        "        table = int(input(\"How many seat: \"))\n",
        "        table_no = random.randint(1,12)\n",
        "        self.table += table\n",
        "        if self.table < 12 :\n",
        "            print(f\"Reserved ! Your table is number {table_no} ;^)\")\n",
        "        else:\n",
        "            print(\"We're apologize,tables are Full ;(\")\n",
        "    #2. Order\n",
        "    def orders (self,menu):\n",
        "        self.order += 1\n",
        "        self.prices += int(menu.get('price'))\n",
        "        self.point += int(menu.get('point')) \n",
        "        print(f\"Thank you for order {menu.get('menu')}\")\n",
        "    #3. Check bill\n",
        "    def bill(self,):\n",
        "        print(f\"Thank you ,They are {self.prices} baht\")\n",
        "    #4. Check your point \n",
        "    def check_point(self):\n",
        "        OTP = random.randint(10000,99999)\n",
        "        print(OTP)\n",
        "        owner_input = int(input(\"Your OTP: \"))\n",
        "        if owner_input == OTP :\n",
        "            print(f\"Your point : {self.point} points.\")\n",
        "        else :\n",
        "            print(\"Your OTP is incorrect.Please try again !\")\n",
        "    #5. Payment\n",
        "    def payment(self):\n",
        "            if self.point > 2:\n",
        "                print('You have 5 baht discount')\n",
        "                self.prices -= 5\n",
        "                print(f'Your bill amount {self.prices} baht')\n",
        "            else:\n",
        "                print('Sorry, can not discount this bill.')\n",
        "                print(f'Your bill is {self.prices} baht')"
      ]
    },
    {
      "cell_type": "code",
      "source": [
        "# Customer checkin !\n",
        "customer_01 = restaurant(\"Kang\")\n"
      ],
      "metadata": {
        "id": "AjSsRc3p2Z6N"
      },
      "execution_count": null,
      "outputs": []
    },
    {
      "cell_type": "code",
      "source": [
        "# Reservation\n",
        "customer_01.reservation(9)"
      ],
      "metadata": {
        "colab": {
          "base_uri": "https://localhost:8080/"
        },
        "id": "tOXKOT_8ZY3g",
        "outputId": "844ceae3-85db-4fb0-cd2f-a1788d223408"
      },
      "execution_count": null,
      "outputs": [
        {
          "output_type": "stream",
          "name": "stdout",
          "text": [
            "How many seat: 8\n",
            "Reserved ! Your table is number 1 ;^)\n"
          ]
        }
      ]
    },
    {
      "cell_type": "code",
      "source": [
        "# Let's Order :D\n",
        "customer_01.orders(food_01)"
      ],
      "metadata": {
        "colab": {
          "base_uri": "https://localhost:8080/"
        },
        "id": "2G6vQCAU2pG-",
        "outputId": "df977d81-ee96-4534-dc51-b06f9efacd96"
      },
      "execution_count": null,
      "outputs": [
        {
          "output_type": "stream",
          "name": "stdout",
          "text": [
            "Thank you for order Salmon Salad\n"
          ]
        }
      ]
    },
    {
      "cell_type": "code",
      "source": [
        "# Check bill\n",
        "customer_01.bill()"
      ],
      "metadata": {
        "colab": {
          "base_uri": "https://localhost:8080/"
        },
        "id": "hLwpZwhm4K7R",
        "outputId": "3043a642-ee05-46d7-cc14-9beb82aa7c2d"
      },
      "execution_count": null,
      "outputs": [
        {
          "output_type": "stream",
          "name": "stdout",
          "text": [
            "Thank you ,They are 310 baht\n"
          ]
        }
      ]
    },
    {
      "cell_type": "code",
      "source": [
        "# Check my point \n",
        "customer_01.check_point()"
      ],
      "metadata": {
        "colab": {
          "base_uri": "https://localhost:8080/"
        },
        "id": "u4p9xxze84ek",
        "outputId": "40293296-e2e5-4d9c-9fd3-be2d9040f6e1"
      },
      "execution_count": null,
      "outputs": [
        {
          "output_type": "stream",
          "name": "stdout",
          "text": [
            "75009\n",
            "Your OTP: 75009\n",
            "Your point : 6 points.\n"
          ]
        }
      ]
    },
    {
      "cell_type": "code",
      "source": [
        "# Payment\n",
        "customer_01.payment()"
      ],
      "metadata": {
        "colab": {
          "base_uri": "https://localhost:8080/"
        },
        "id": "x712m2UseevE",
        "outputId": "d5e91eb4-dc32-4f86-89f9-797b2d623a33"
      },
      "execution_count": null,
      "outputs": [
        {
          "output_type": "stream",
          "name": "stdout",
          "text": [
            "You have 5 baht discount\n",
            "Your bill amount 495 baht\n"
          ]
        }
      ]
    },
    {
      "cell_type": "code",
      "source": [
        ""
      ],
      "metadata": {
        "id": "L8ZupTaVPX9D"
      },
      "execution_count": null,
      "outputs": []
    }
  ]
}